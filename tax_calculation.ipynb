{
  "cells": [
    {
      "cell_type": "markdown",
      "metadata": {
        "id": "view-in-github",
        "colab_type": "text"
      },
      "source": [
        "<a href=\"https://colab.research.google.com/github/bryantwpy/IBP-Practicals/blob/main/tax_calculation.ipynb\" target=\"_parent\"><img src=\"https://colab.research.google.com/assets/colab-badge.svg\" alt=\"Open In Colab\"/></a>"
      ]
    },
    {
      "cell_type": "markdown",
      "metadata": {
        "id": "bVMwNyExqHgH"
      },
      "source": [
        "# Tax Calculation\n",
        "\n",
        "Write a program the prompts the user for their income and calculates the \n",
        "tax payable based on the Australian Tax Office [Resident tax rates 2021–22\n",
        "Taxable income](https://www.ato.gov.au/rates/individual-income-tax-rates/)\n",
        "\n",
        "Income            | Tax on this income \n",
        "------------------|----------------------\n",
        "0 – \\$18,200       | Nil\n",
        "\\$18,201 – \\$45,000 | 19 cents for each \\$1 over \\$18,200\n",
        "\\$45,001 – \\$120,000 | \\$5,092 plus 32.5 cents for each \\$1 over \\$45,000\n",
        "\\$120,001 – \\$180,000 |  \\$29,467 plus 37 cents for each \\$1 over \\$120,000\n",
        "\\$180,001 and over | \\$51,667 plus 45 cents for each \\$1 over \\$180,000\n",
        "\n",
        "## Task 0 - Import notebook to GitHub\n",
        "\n",
        "First, import the notebook into Colab and save an initial copy to GitHub."
      ]
    },
    {
      "cell_type": "markdown",
      "metadata": {
        "id": "GQPi2a6VI0rf"
      },
      "source": [
        "## Task 1 - Complete Tax Payable Function\n",
        "\n",
        "When you apply the 5-step process you will end up with an algorithm. Here \n",
        "is a very simple algorithm to solve our simple program.  We often call this\n",
        "a high level overview of the problem.  We now know enough about computers and \n",
        "programming now to understand that these high level steps will need to be split \n",
        "into small steps that a computer can implement.  but these high level steps make\n",
        "good candidates for functions.  \n",
        "\n",
        "For our tax calculation problem, if we had functions to perform the following \n",
        "steps, would this solve out problem?  If not what steps would you add?\n",
        "\n",
        "1. Get the income\n",
        "2. Calculate the tax payable\n",
        "3. Output tax payable"
      ]
    },
    {
      "cell_type": "code",
      "execution_count": 1,
      "metadata": {
        "id": "AuzMU2B7J-q4"
      },
      "outputs": [],
      "source": [
        "def get_income():\n",
        "  '''\n",
        "  This function will prompt the user for the income\n",
        "  and return the value\n",
        "  '''\n",
        "  \n",
        "  income = int(input(\"What is your income for the year? \"))\n",
        "  print(\"Your income is \" ,income)\n",
        "  return income\n",
        "\n"
      ]
    },
    {
      "cell_type": "markdown",
      "metadata": {
        "id": "quC-JLWN-HSH"
      },
      "source": [
        "Using the Residents tax rate table, complete the following function"
      ]
    },
    {
      "cell_type": "code",
      "execution_count": 17,
      "metadata": {
        "id": "bIGrqfz_Mbt8"
      },
      "outputs": [],
      "source": [
        "def calculate_tax(income):\n",
        "  tax_payable = 0\n",
        "  if income <= 18200:\n",
        "    tax_payable = 0\n",
        "  elif 18201 <= income <= 45000:\n",
        "    tax_payable = 0.19 * (income - 18200)\n",
        "  elif 45001 <= income <= 120000:\n",
        "    tax_payable = 5092 + 0.32 * (income - 45000)\n",
        "  elif 120001 <= income <= 180000:\n",
        "    tax_payable = 29467 + 0.37 * (income - 120000)\n",
        "  else:\n",
        "    tax_payable = 51667 + 0.45 * (income - 180000)\n",
        "\n",
        "  return tax_payable\n"
      ]
    },
    {
      "cell_type": "markdown",
      "metadata": {
        "id": "NQIpVthC-HSJ"
      },
      "source": [
        "## Task 2 - Complete the program"
      ]
    },
    {
      "cell_type": "code",
      "execution_count": 18,
      "metadata": {
        "id": "pd8m2I1uMuAu",
        "colab": {
          "base_uri": "https://localhost:8080/"
        },
        "outputId": "f13ba053-9d40-4f47-c700-49bf4ef4a7df"
      },
      "outputs": [
        {
          "output_type": "stream",
          "name": "stdout",
          "text": [
            "What is your income for the year? 1822004\n",
            "Your income is  1822004\n",
            "Your tax is 790568.8\n"
          ]
        }
      ],
      "source": [
        "# 'Main line'\n",
        "\n",
        "# Step 1 - Get the income\n",
        "income = get_income()\n",
        "\n",
        "# Step 2 - Calculate the tax\n",
        "tax = calculate_tax(income)\n",
        "\n",
        "# Step 3 - Output tax payable\n",
        "print(f\"Your tax is {tax}\")"
      ]
    },
    {
      "cell_type": "markdown",
      "metadata": {
        "id": "2lgFtecO-HSJ"
      },
      "source": [
        "## Task 3 (Optional) - Payslip\n",
        "\n",
        "How could you use these functions with the payslip notebook?\n"
      ]
    },
    {
      "cell_type": "markdown",
      "source": [
        "#Opinions:\n",
        "Just a random idea, since the tax calculations can be found in the government website, and is implemented in this practical, we can use this tax calculation method in addition of the one mentioned in the payslip notebook, so now in completion the code not just displays the salary the person is paid, the incmoe tax and the actual salary after income tax is printed as well. The codes below are some examples on how we could do it:"
      ],
      "metadata": {
        "id": "2MVp3hBtLxfs"
      }
    },
    {
      "cell_type": "code",
      "source": [
        "def calculate_pay(salary, sales, commission_rate, name):\n",
        "\n",
        "    '''\n",
        "    This function will calculate the pay given the input parameters\n",
        "    '''\n",
        "    commission = commission_rate * sales\n",
        "    tax = (salary + commission) * 0.10\n",
        "    pay = salary + commission - tax\n",
        "    income_tax = calculate_tax(pay)\n",
        "    total_pay = pay - income_tax\n",
        "    print('Payslip of '+ name)\n",
        "    print('Salary', salary,'\\nCommission',commission,'\\nTax', tax)\n",
        "    print('Salary before income tax: ', pay)\n",
        "    print('Income tax: ', income_tax)\n",
        "    print('Total pay: ', total_pay)\n"
      ],
      "metadata": {
        "id": "cVZbSFOWMG2D"
      },
      "execution_count": 29,
      "outputs": []
    },
    {
      "cell_type": "code",
      "source": [
        "salary = get_income()\n",
        "sales = 20000\n",
        "commission_rate = 0.02\n",
        "name = 'Bob'\n",
        "\n",
        "calculate_pay(salary, sales, commission_rate, name)\n",
        "\n"
      ],
      "metadata": {
        "colab": {
          "base_uri": "https://localhost:8080/"
        },
        "id": "qjJOoWM8MZ-z",
        "outputId": "cb8a1cd6-c477-4b2e-e7d6-dfd13ed22b2d"
      },
      "execution_count": 30,
      "outputs": [
        {
          "output_type": "stream",
          "name": "stdout",
          "text": [
            "What is your income for the year? 1000000\n",
            "Your income is  1000000\n",
            "Payslip of Bob\n",
            "Salary 1000000 \n",
            "Commission 400.0 \n",
            "Tax 100040.0\n",
            "Salary before income tax:  900360.0\n",
            "Income tax:  375829.0\n",
            "Total pay:  524531.0\n"
          ]
        }
      ]
    }
  ],
  "metadata": {
    "colab": {
      "provenance": [],
      "include_colab_link": true
    },
    "kernelspec": {
      "display_name": "Python 3",
      "name": "python3"
    },
    "language_info": {
      "name": "python"
    }
  },
  "nbformat": 4,
  "nbformat_minor": 0
}